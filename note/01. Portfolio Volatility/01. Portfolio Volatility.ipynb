{
 "cells": [
  {
   "cell_type": "code",
   "execution_count": 1,
   "metadata": {},
   "outputs": [],
   "source": [
    "import pandas as pd\n",
    "import numpy as np"
   ]
  },
  {
   "cell_type": "code",
   "execution_count": 2,
   "metadata": {},
   "outputs": [
    {
     "data": {
      "text/html": [
       "<div>\n",
       "<style scoped>\n",
       "    .dataframe tbody tr th:only-of-type {\n",
       "        vertical-align: middle;\n",
       "    }\n",
       "\n",
       "    .dataframe tbody tr th {\n",
       "        vertical-align: top;\n",
       "    }\n",
       "\n",
       "    .dataframe thead th {\n",
       "        text-align: right;\n",
       "    }\n",
       "</style>\n",
       "<table border=\"1\" class=\"dataframe\">\n",
       "  <thead>\n",
       "    <tr style=\"text-align: right;\">\n",
       "      <th></th>\n",
       "      <th>Samsung Electronics</th>\n",
       "      <th>SK Hynix</th>\n",
       "      <th>KAKAO</th>\n",
       "      <th>NAVER</th>\n",
       "      <th>KODEX Inverse</th>\n",
       "    </tr>\n",
       "    <tr>\n",
       "      <th>date</th>\n",
       "      <th></th>\n",
       "      <th></th>\n",
       "      <th></th>\n",
       "      <th></th>\n",
       "      <th></th>\n",
       "    </tr>\n",
       "  </thead>\n",
       "  <tbody>\n",
       "    <tr>\n",
       "      <th>2021-07-28</th>\n",
       "      <td>79200.0</td>\n",
       "      <td>114000.0</td>\n",
       "      <td>148000.0</td>\n",
       "      <td>442000.0</td>\n",
       "      <td>3765.0</td>\n",
       "    </tr>\n",
       "    <tr>\n",
       "      <th>2021-07-29</th>\n",
       "      <td>79000.0</td>\n",
       "      <td>114000.0</td>\n",
       "      <td>148500.0</td>\n",
       "      <td>439500.0</td>\n",
       "      <td>3755.0</td>\n",
       "    </tr>\n",
       "    <tr>\n",
       "      <th>2021-07-30</th>\n",
       "      <td>78500.0</td>\n",
       "      <td>112500.0</td>\n",
       "      <td>147000.0</td>\n",
       "      <td>433500.0</td>\n",
       "      <td>3805.0</td>\n",
       "    </tr>\n",
       "  </tbody>\n",
       "</table>\n",
       "</div>"
      ],
      "text/plain": [
       "            Samsung Electronics  SK Hynix     KAKAO     NAVER  KODEX Inverse\n",
       "date                                                                        \n",
       "2021-07-28              79200.0  114000.0  148000.0  442000.0         3765.0\n",
       "2021-07-29              79000.0  114000.0  148500.0  439500.0         3755.0\n",
       "2021-07-30              78500.0  112500.0  147000.0  433500.0         3805.0"
      ]
     },
     "execution_count": 2,
     "metadata": {},
     "output_type": "execute_result"
    }
   ],
   "source": [
    "close_price_df = pd.read_csv(\"./sample_stock_close_price.csv\", index_col=0, parse_dates=True)\n",
    "close_price_df.columns = ['Samsung Electronics', 'SK Hynix', 'KAKAO', 'NAVER', 'KODEX Inverse']\n",
    "close_price_df.tail(3)"
   ]
  },
  {
   "cell_type": "code",
   "execution_count": 3,
   "metadata": {
    "tags": []
   },
   "outputs": [
    {
     "data": {
      "text/plain": [
       "Samsung Electronics    0.017170\n",
       "SK Hynix               0.024069\n",
       "KAKAO                  0.023309\n",
       "NAVER                  0.022415\n",
       "KODEX Inverse          0.011115\n",
       "dtype: float64"
      ]
     },
     "execution_count": 3,
     "metadata": {},
     "output_type": "execute_result"
    }
   ],
   "source": [
    "close_price_df.pct_change().std()"
   ]
  },
  {
   "cell_type": "markdown",
   "metadata": {
    "tags": []
   },
   "source": [
    "## Portfolio Variance\n"
   ]
  },
  {
   "cell_type": "markdown",
   "metadata": {},
   "source": [
    "\n",
    "\\begin{equation}\n",
    "\\begin{aligned}\n",
    "\\sigma_{p}^{2} = \\sum_{i.j}w_{i}w_{j}Cov(r_{i},r_{j}) \\\\\n",
    " = W^{T} \\cdot K \\cdot  W  \\qquad \\quad \\quad  \\\\ \n",
    "\\end{aligned}\n",
    "\\end{equation}\n"
   ]
  },
  {
   "cell_type": "code",
   "execution_count": 4,
   "metadata": {},
   "outputs": [
    {
     "data": {
      "text/html": [
       "<div>\n",
       "<style scoped>\n",
       "    .dataframe tbody tr th:only-of-type {\n",
       "        vertical-align: middle;\n",
       "    }\n",
       "\n",
       "    .dataframe tbody tr th {\n",
       "        vertical-align: top;\n",
       "    }\n",
       "\n",
       "    .dataframe thead th {\n",
       "        text-align: right;\n",
       "    }\n",
       "</style>\n",
       "<table border=\"1\" class=\"dataframe\">\n",
       "  <thead>\n",
       "    <tr style=\"text-align: right;\">\n",
       "      <th></th>\n",
       "      <th>Samsung Electronics</th>\n",
       "      <th>SK Hynix</th>\n",
       "      <th>KAKAO</th>\n",
       "      <th>NAVER</th>\n",
       "      <th>KODEX Inverse</th>\n",
       "    </tr>\n",
       "  </thead>\n",
       "  <tbody>\n",
       "    <tr>\n",
       "      <th>Samsung Electronics</th>\n",
       "      <td>0.000295</td>\n",
       "      <td>0.000210</td>\n",
       "      <td>0.000060</td>\n",
       "      <td>0.000082</td>\n",
       "      <td>-0.000140</td>\n",
       "    </tr>\n",
       "    <tr>\n",
       "      <th>SK Hynix</th>\n",
       "      <td>0.000210</td>\n",
       "      <td>0.000579</td>\n",
       "      <td>0.000100</td>\n",
       "      <td>0.000088</td>\n",
       "      <td>-0.000153</td>\n",
       "    </tr>\n",
       "    <tr>\n",
       "      <th>KAKAO</th>\n",
       "      <td>0.000060</td>\n",
       "      <td>0.000100</td>\n",
       "      <td>0.000543</td>\n",
       "      <td>0.000167</td>\n",
       "      <td>-0.000076</td>\n",
       "    </tr>\n",
       "    <tr>\n",
       "      <th>NAVER</th>\n",
       "      <td>0.000082</td>\n",
       "      <td>0.000088</td>\n",
       "      <td>0.000167</td>\n",
       "      <td>0.000502</td>\n",
       "      <td>-0.000084</td>\n",
       "    </tr>\n",
       "    <tr>\n",
       "      <th>KODEX Inverse</th>\n",
       "      <td>-0.000140</td>\n",
       "      <td>-0.000153</td>\n",
       "      <td>-0.000076</td>\n",
       "      <td>-0.000084</td>\n",
       "      <td>0.000124</td>\n",
       "    </tr>\n",
       "  </tbody>\n",
       "</table>\n",
       "</div>"
      ],
      "text/plain": [
       "                     Samsung Electronics  SK Hynix     KAKAO     NAVER  \\\n",
       "Samsung Electronics             0.000295  0.000210  0.000060  0.000082   \n",
       "SK Hynix                        0.000210  0.000579  0.000100  0.000088   \n",
       "KAKAO                           0.000060  0.000100  0.000543  0.000167   \n",
       "NAVER                           0.000082  0.000088  0.000167  0.000502   \n",
       "KODEX Inverse                  -0.000140 -0.000153 -0.000076 -0.000084   \n",
       "\n",
       "                     KODEX Inverse  \n",
       "Samsung Electronics      -0.000140  \n",
       "SK Hynix                 -0.000153  \n",
       "KAKAO                    -0.000076  \n",
       "NAVER                    -0.000084  \n",
       "KODEX Inverse             0.000124  "
      ]
     },
     "execution_count": 4,
     "metadata": {},
     "output_type": "execute_result"
    }
   ],
   "source": [
    "cov_matrix = close_price_df.pct_change().cov()\n",
    "cov_matrix"
   ]
  },
  {
   "cell_type": "markdown",
   "metadata": {},
   "source": [
    "### Portfolio 1 Volatility"
   ]
  },
  {
   "cell_type": "code",
   "execution_count": 5,
   "metadata": {
    "tags": []
   },
   "outputs": [
    {
     "data": {
      "text/plain": [
       "(array([0.2, 0.2, 0.2, 0.2, 0.2]), 1.0)"
      ]
     },
     "execution_count": 5,
     "metadata": {},
     "output_type": "execute_result"
    }
   ],
   "source": [
    "portfolio_1_weights = np.array([0.2, 0.2, 0.2, 0.2, 0.2])\n",
    "portfolio_1_weights, portfolio_1_weights.sum()"
   ]
  },
  {
   "cell_type": "code",
   "execution_count": 6,
   "metadata": {},
   "outputs": [
    {
     "data": {
      "text/plain": [
       "0.0001019404461898898"
      ]
     },
     "execution_count": 6,
     "metadata": {},
     "output_type": "execute_result"
    }
   ],
   "source": [
    "portfolio_1_variance = portfolio_1_weights.dot(cov_matrix).dot(portfolio_1_weights)\n",
    "portfolio_1_variance"
   ]
  },
  {
   "cell_type": "code",
   "execution_count": 7,
   "metadata": {},
   "outputs": [
    {
     "data": {
      "text/plain": [
       "0.010096556154941634"
      ]
     },
     "execution_count": 7,
     "metadata": {},
     "output_type": "execute_result"
    }
   ],
   "source": [
    "portfolio_1_std = np.sqrt(portfolio_1_variance)\n",
    "portfolio_1_std"
   ]
  },
  {
   "cell_type": "markdown",
   "metadata": {},
   "source": [
    "### Portfolio 2 Volatility"
   ]
  },
  {
   "cell_type": "code",
   "execution_count": 8,
   "metadata": {
    "tags": []
   },
   "outputs": [
    {
     "data": {
      "text/plain": [
       "(array([0.1, 0.1, 0.4, 0.2, 0.2]), 1.0)"
      ]
     },
     "execution_count": 8,
     "metadata": {},
     "output_type": "execute_result"
    }
   ],
   "source": [
    "portfolio_2_weights = np.array([0.1, 0.1, 0.4, 0.2, 0.2])\n",
    "portfolio_2_weights, portfolio_2_weights.sum()"
   ]
  },
  {
   "cell_type": "code",
   "execution_count": 9,
   "metadata": {},
   "outputs": [
    {
     "data": {
      "text/plain": [
       "0.0001405378830009183"
      ]
     },
     "execution_count": 9,
     "metadata": {},
     "output_type": "execute_result"
    }
   ],
   "source": [
    "portfolio_2_variance = portfolio_2_weights.dot(cov_matrix).dot(portfolio_2_weights)\n",
    "portfolio_2_variance"
   ]
  },
  {
   "cell_type": "code",
   "execution_count": 10,
   "metadata": {
    "tags": []
   },
   "outputs": [
    {
     "data": {
      "text/plain": [
       "0.011854867481373139"
      ]
     },
     "execution_count": 10,
     "metadata": {},
     "output_type": "execute_result"
    }
   ],
   "source": [
    "portfolio_2_std = np.sqrt(portfolio_2_variance)\n",
    "portfolio_2_std"
   ]
  },
  {
   "cell_type": "markdown",
   "metadata": {},
   "source": [
    "### Portfolio Volatility Compare"
   ]
  },
  {
   "cell_type": "code",
   "execution_count": 11,
   "metadata": {},
   "outputs": [
    {
     "name": "stdout",
     "output_type": "stream",
     "text": [
      "portfolio 1 Volatility :  0.0101\n",
      "portfolio 2 Volatility :  0.0119\n",
      "portfolio Volatility delta :  0.001758\n"
     ]
    }
   ],
   "source": [
    "print('portfolio 1 Volatility : ', round(portfolio_1_std, 4))\n",
    "print('portfolio 2 Volatility : ', round(portfolio_2_std, 4))\n",
    "print('portfolio Volatility delta : ', round(portfolio_2_std - portfolio_1_std, 6))"
   ]
  },
  {
   "cell_type": "markdown",
   "metadata": {},
   "source": [
    "### Trying to Get Portfolio Volatility Delta using Portfolio Weights Delta "
   ]
  },
  {
   "cell_type": "code",
   "execution_count": 12,
   "metadata": {},
   "outputs": [
    {
     "data": {
      "text/plain": [
       "array([-0.1, -0.1,  0.2,  0. ,  0. ])"
      ]
     },
     "execution_count": 12,
     "metadata": {},
     "output_type": "execute_result"
    }
   ],
   "source": [
    "portfolio_weights_delta = portfolio_2_weights - portfolio_1_weights\n",
    "portfolio_weights_delta"
   ]
  },
  {
   "cell_type": "code",
   "execution_count": 13,
   "metadata": {},
   "outputs": [],
   "source": [
    "portfolio_variance_delta = portfolio_weights_delta.dot(cov_matrix).dot(portfolio_weights_delta)"
   ]
  },
  {
   "cell_type": "code",
   "execution_count": 14,
   "metadata": {},
   "outputs": [
    {
     "data": {
      "text/plain": [
       "0.005318472294771918"
      ]
     },
     "execution_count": 14,
     "metadata": {},
     "output_type": "execute_result"
    }
   ],
   "source": [
    "np.sqrt(portfolio_variance_delta)"
   ]
  },
  {
   "cell_type": "markdown",
   "metadata": {},
   "source": [
    "-> It's not an appropriate methodology. In my opinion, it seems impossible to obtain with just the delta of portfolio weights."
   ]
  }
 ],
 "metadata": {
  "kernelspec": {
   "display_name": "Python 3",
   "language": "python",
   "name": "python3"
  },
  "language_info": {
   "codemirror_mode": {
    "name": "ipython",
    "version": 3
   },
   "file_extension": ".py",
   "mimetype": "text/x-python",
   "name": "python",
   "nbconvert_exporter": "python",
   "pygments_lexer": "ipython3",
   "version": "3.7.4"
  }
 },
 "nbformat": 4,
 "nbformat_minor": 5
}
