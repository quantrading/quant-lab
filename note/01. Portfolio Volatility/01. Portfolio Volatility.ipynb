{
 "cells": [
  {
   "cell_type": "code",
   "execution_count": 1,
   "metadata": {},
   "outputs": [],
   "source": [
    "import pandas as pd\n",
    "import numpy as np"
   ]
  },
  {
   "cell_type": "code",
   "execution_count": 2,
   "metadata": {},
   "outputs": [
    {
     "data": {
      "text/html": [
       "<div>\n",
       "<style scoped>\n",
       "    .dataframe tbody tr th:only-of-type {\n",
       "        vertical-align: middle;\n",
       "    }\n",
       "\n",
       "    .dataframe tbody tr th {\n",
       "        vertical-align: top;\n",
       "    }\n",
       "\n",
       "    .dataframe thead th {\n",
       "        text-align: right;\n",
       "    }\n",
       "</style>\n",
       "<table border=\"1\" class=\"dataframe\">\n",
       "  <thead>\n",
       "    <tr style=\"text-align: right;\">\n",
       "      <th></th>\n",
       "      <th>Samsung Electronics</th>\n",
       "      <th>SK Hynix</th>\n",
       "      <th>KAKAO</th>\n",
       "      <th>NAVER</th>\n",
       "      <th>LG Chemistry</th>\n",
       "      <th>Samsung SDI</th>\n",
       "      <th>HyunDai</th>\n",
       "      <th>Celltrion</th>\n",
       "      <th>KODEX Inverse</th>\n",
       "    </tr>\n",
       "    <tr>\n",
       "      <th>date</th>\n",
       "      <th></th>\n",
       "      <th></th>\n",
       "      <th></th>\n",
       "      <th></th>\n",
       "      <th></th>\n",
       "      <th></th>\n",
       "      <th></th>\n",
       "      <th></th>\n",
       "      <th></th>\n",
       "    </tr>\n",
       "  </thead>\n",
       "  <tbody>\n",
       "    <tr>\n",
       "      <th>2021-07-28</th>\n",
       "      <td>79200.0</td>\n",
       "      <td>114000.0</td>\n",
       "      <td>148000.0</td>\n",
       "      <td>442000.0</td>\n",
       "      <td>835000.0</td>\n",
       "      <td>759000.0</td>\n",
       "      <td>222500.0</td>\n",
       "      <td>261500.0</td>\n",
       "      <td>3765.0</td>\n",
       "    </tr>\n",
       "    <tr>\n",
       "      <th>2021-07-29</th>\n",
       "      <td>79000.0</td>\n",
       "      <td>114000.0</td>\n",
       "      <td>148500.0</td>\n",
       "      <td>439500.0</td>\n",
       "      <td>835000.0</td>\n",
       "      <td>765000.0</td>\n",
       "      <td>222000.0</td>\n",
       "      <td>261500.0</td>\n",
       "      <td>3755.0</td>\n",
       "    </tr>\n",
       "    <tr>\n",
       "      <th>2021-07-30</th>\n",
       "      <td>78500.0</td>\n",
       "      <td>112500.0</td>\n",
       "      <td>147000.0</td>\n",
       "      <td>433500.0</td>\n",
       "      <td>842000.0</td>\n",
       "      <td>741000.0</td>\n",
       "      <td>218000.0</td>\n",
       "      <td>253500.0</td>\n",
       "      <td>3805.0</td>\n",
       "    </tr>\n",
       "  </tbody>\n",
       "</table>\n",
       "</div>"
      ],
      "text/plain": [
       "            Samsung Electronics  SK Hynix     KAKAO     NAVER  LG Chemistry  \\\n",
       "date                                                                          \n",
       "2021-07-28              79200.0  114000.0  148000.0  442000.0      835000.0   \n",
       "2021-07-29              79000.0  114000.0  148500.0  439500.0      835000.0   \n",
       "2021-07-30              78500.0  112500.0  147000.0  433500.0      842000.0   \n",
       "\n",
       "            Samsung SDI   HyunDai  Celltrion  KODEX Inverse  \n",
       "date                                                         \n",
       "2021-07-28     759000.0  222500.0   261500.0         3765.0  \n",
       "2021-07-29     765000.0  222000.0   261500.0         3755.0  \n",
       "2021-07-30     741000.0  218000.0   253500.0         3805.0  "
      ]
     },
     "execution_count": 2,
     "metadata": {},
     "output_type": "execute_result"
    }
   ],
   "source": [
    "close_price_df = pd.read_csv(\"./sample_stock_close_price.csv\", index_col=0, parse_dates=True)\n",
    "close_price_df.columns = ['Samsung Electronics', 'SK Hynix', 'KAKAO', 'NAVER', 'LG Chemistry', 'Samsung SDI', 'HyunDai', 'Celltrion', 'KODEX Inverse']\n",
    "close_price_df.tail(3)"
   ]
  },
  {
   "cell_type": "code",
   "execution_count": 3,
   "metadata": {},
   "outputs": [
    {
     "data": {
      "text/html": [
       "<div>\n",
       "<style scoped>\n",
       "    .dataframe tbody tr th:only-of-type {\n",
       "        vertical-align: middle;\n",
       "    }\n",
       "\n",
       "    .dataframe tbody tr th {\n",
       "        vertical-align: top;\n",
       "    }\n",
       "\n",
       "    .dataframe thead th {\n",
       "        text-align: right;\n",
       "    }\n",
       "</style>\n",
       "<table border=\"1\" class=\"dataframe\">\n",
       "  <thead>\n",
       "    <tr style=\"text-align: right;\">\n",
       "      <th></th>\n",
       "      <th>Samsung Electronics</th>\n",
       "      <th>SK Hynix</th>\n",
       "      <th>KAKAO</th>\n",
       "      <th>NAVER</th>\n",
       "      <th>LG Chemistry</th>\n",
       "      <th>Samsung SDI</th>\n",
       "      <th>HyunDai</th>\n",
       "      <th>Celltrion</th>\n",
       "      <th>KODEX Inverse</th>\n",
       "      <th>cash</th>\n",
       "    </tr>\n",
       "    <tr>\n",
       "      <th>date</th>\n",
       "      <th></th>\n",
       "      <th></th>\n",
       "      <th></th>\n",
       "      <th></th>\n",
       "      <th></th>\n",
       "      <th></th>\n",
       "      <th></th>\n",
       "      <th></th>\n",
       "      <th></th>\n",
       "      <th></th>\n",
       "    </tr>\n",
       "  </thead>\n",
       "  <tbody>\n",
       "    <tr>\n",
       "      <th>2021-07-28</th>\n",
       "      <td>79200.0</td>\n",
       "      <td>114000.0</td>\n",
       "      <td>148000.0</td>\n",
       "      <td>442000.0</td>\n",
       "      <td>835000.0</td>\n",
       "      <td>759000.0</td>\n",
       "      <td>222500.0</td>\n",
       "      <td>261500.0</td>\n",
       "      <td>3765.0</td>\n",
       "      <td>1</td>\n",
       "    </tr>\n",
       "    <tr>\n",
       "      <th>2021-07-29</th>\n",
       "      <td>79000.0</td>\n",
       "      <td>114000.0</td>\n",
       "      <td>148500.0</td>\n",
       "      <td>439500.0</td>\n",
       "      <td>835000.0</td>\n",
       "      <td>765000.0</td>\n",
       "      <td>222000.0</td>\n",
       "      <td>261500.0</td>\n",
       "      <td>3755.0</td>\n",
       "      <td>1</td>\n",
       "    </tr>\n",
       "    <tr>\n",
       "      <th>2021-07-30</th>\n",
       "      <td>78500.0</td>\n",
       "      <td>112500.0</td>\n",
       "      <td>147000.0</td>\n",
       "      <td>433500.0</td>\n",
       "      <td>842000.0</td>\n",
       "      <td>741000.0</td>\n",
       "      <td>218000.0</td>\n",
       "      <td>253500.0</td>\n",
       "      <td>3805.0</td>\n",
       "      <td>1</td>\n",
       "    </tr>\n",
       "  </tbody>\n",
       "</table>\n",
       "</div>"
      ],
      "text/plain": [
       "            Samsung Electronics  SK Hynix     KAKAO     NAVER  LG Chemistry  \\\n",
       "date                                                                          \n",
       "2021-07-28              79200.0  114000.0  148000.0  442000.0      835000.0   \n",
       "2021-07-29              79000.0  114000.0  148500.0  439500.0      835000.0   \n",
       "2021-07-30              78500.0  112500.0  147000.0  433500.0      842000.0   \n",
       "\n",
       "            Samsung SDI   HyunDai  Celltrion  KODEX Inverse  cash  \n",
       "date                                                               \n",
       "2021-07-28     759000.0  222500.0   261500.0         3765.0     1  \n",
       "2021-07-29     765000.0  222000.0   261500.0         3755.0     1  \n",
       "2021-07-30     741000.0  218000.0   253500.0         3805.0     1  "
      ]
     },
     "execution_count": 3,
     "metadata": {},
     "output_type": "execute_result"
    }
   ],
   "source": [
    "close_price_df['cash'] = 1\n",
    "close_price_df.tail(3)"
   ]
  },
  {
   "cell_type": "code",
   "execution_count": 4,
   "metadata": {
    "tags": []
   },
   "outputs": [
    {
     "data": {
      "text/plain": [
       "Samsung Electronics    0.017170\n",
       "SK Hynix               0.024069\n",
       "KAKAO                  0.023309\n",
       "NAVER                  0.022415\n",
       "LG Chemistry           0.024015\n",
       "Samsung SDI            0.024331\n",
       "HyunDai                0.021317\n",
       "Celltrion              0.030325\n",
       "KODEX Inverse          0.011115\n",
       "cash                   0.000000\n",
       "dtype: float64"
      ]
     },
     "execution_count": 4,
     "metadata": {},
     "output_type": "execute_result"
    }
   ],
   "source": [
    "close_price_df.pct_change().std()"
   ]
  },
  {
   "cell_type": "markdown",
   "metadata": {
    "tags": []
   },
   "source": [
    "## Portfolio Variance\n"
   ]
  },
  {
   "cell_type": "markdown",
   "metadata": {},
   "source": [
    "\n",
    "\\begin{equation}\n",
    "\\begin{aligned}\n",
    "\\sigma_{p}^{2} = \\sum_{i.j}w_{i}w_{j}Cov(r_{i},r_{j}) \\\\\n",
    " = W^{T} \\cdot K \\cdot  W  \\qquad \\quad \\quad  \\\\ \n",
    "\\end{aligned}\n",
    "\\end{equation}\n"
   ]
  },
  {
   "cell_type": "code",
   "execution_count": 5,
   "metadata": {},
   "outputs": [
    {
     "data": {
      "text/html": [
       "<div>\n",
       "<style scoped>\n",
       "    .dataframe tbody tr th:only-of-type {\n",
       "        vertical-align: middle;\n",
       "    }\n",
       "\n",
       "    .dataframe tbody tr th {\n",
       "        vertical-align: top;\n",
       "    }\n",
       "\n",
       "    .dataframe thead th {\n",
       "        text-align: right;\n",
       "    }\n",
       "</style>\n",
       "<table border=\"1\" class=\"dataframe\">\n",
       "  <thead>\n",
       "    <tr style=\"text-align: right;\">\n",
       "      <th></th>\n",
       "      <th>Samsung Electronics</th>\n",
       "      <th>SK Hynix</th>\n",
       "      <th>KAKAO</th>\n",
       "      <th>NAVER</th>\n",
       "      <th>LG Chemistry</th>\n",
       "      <th>Samsung SDI</th>\n",
       "      <th>HyunDai</th>\n",
       "      <th>Celltrion</th>\n",
       "      <th>KODEX Inverse</th>\n",
       "      <th>cash</th>\n",
       "    </tr>\n",
       "  </thead>\n",
       "  <tbody>\n",
       "    <tr>\n",
       "      <th>Samsung Electronics</th>\n",
       "      <td>0.000295</td>\n",
       "      <td>0.000210</td>\n",
       "      <td>0.000060</td>\n",
       "      <td>0.000082</td>\n",
       "      <td>0.000133</td>\n",
       "      <td>0.000151</td>\n",
       "      <td>0.000113</td>\n",
       "      <td>0.000069</td>\n",
       "      <td>-0.000140</td>\n",
       "      <td>0.0</td>\n",
       "    </tr>\n",
       "    <tr>\n",
       "      <th>SK Hynix</th>\n",
       "      <td>0.000210</td>\n",
       "      <td>0.000579</td>\n",
       "      <td>0.000100</td>\n",
       "      <td>0.000088</td>\n",
       "      <td>0.000170</td>\n",
       "      <td>0.000196</td>\n",
       "      <td>0.000131</td>\n",
       "      <td>0.000111</td>\n",
       "      <td>-0.000153</td>\n",
       "      <td>0.0</td>\n",
       "    </tr>\n",
       "    <tr>\n",
       "      <th>KAKAO</th>\n",
       "      <td>0.000060</td>\n",
       "      <td>0.000100</td>\n",
       "      <td>0.000543</td>\n",
       "      <td>0.000167</td>\n",
       "      <td>0.000103</td>\n",
       "      <td>0.000117</td>\n",
       "      <td>0.000065</td>\n",
       "      <td>0.000114</td>\n",
       "      <td>-0.000076</td>\n",
       "      <td>0.0</td>\n",
       "    </tr>\n",
       "    <tr>\n",
       "      <th>NAVER</th>\n",
       "      <td>0.000082</td>\n",
       "      <td>0.000088</td>\n",
       "      <td>0.000167</td>\n",
       "      <td>0.000502</td>\n",
       "      <td>0.000081</td>\n",
       "      <td>0.000096</td>\n",
       "      <td>0.000069</td>\n",
       "      <td>0.000090</td>\n",
       "      <td>-0.000084</td>\n",
       "      <td>0.0</td>\n",
       "    </tr>\n",
       "    <tr>\n",
       "      <th>LG Chemistry</th>\n",
       "      <td>0.000133</td>\n",
       "      <td>0.000170</td>\n",
       "      <td>0.000103</td>\n",
       "      <td>0.000081</td>\n",
       "      <td>0.000577</td>\n",
       "      <td>0.000290</td>\n",
       "      <td>0.000167</td>\n",
       "      <td>0.000116</td>\n",
       "      <td>-0.000157</td>\n",
       "      <td>0.0</td>\n",
       "    </tr>\n",
       "    <tr>\n",
       "      <th>Samsung SDI</th>\n",
       "      <td>0.000151</td>\n",
       "      <td>0.000196</td>\n",
       "      <td>0.000117</td>\n",
       "      <td>0.000096</td>\n",
       "      <td>0.000290</td>\n",
       "      <td>0.000592</td>\n",
       "      <td>0.000126</td>\n",
       "      <td>0.000116</td>\n",
       "      <td>-0.000140</td>\n",
       "      <td>0.0</td>\n",
       "    </tr>\n",
       "    <tr>\n",
       "      <th>HyunDai</th>\n",
       "      <td>0.000113</td>\n",
       "      <td>0.000131</td>\n",
       "      <td>0.000065</td>\n",
       "      <td>0.000069</td>\n",
       "      <td>0.000167</td>\n",
       "      <td>0.000126</td>\n",
       "      <td>0.000454</td>\n",
       "      <td>0.000082</td>\n",
       "      <td>-0.000127</td>\n",
       "      <td>0.0</td>\n",
       "    </tr>\n",
       "    <tr>\n",
       "      <th>Celltrion</th>\n",
       "      <td>0.000069</td>\n",
       "      <td>0.000111</td>\n",
       "      <td>0.000114</td>\n",
       "      <td>0.000090</td>\n",
       "      <td>0.000116</td>\n",
       "      <td>0.000116</td>\n",
       "      <td>0.000082</td>\n",
       "      <td>0.000920</td>\n",
       "      <td>-0.000091</td>\n",
       "      <td>0.0</td>\n",
       "    </tr>\n",
       "    <tr>\n",
       "      <th>KODEX Inverse</th>\n",
       "      <td>-0.000140</td>\n",
       "      <td>-0.000153</td>\n",
       "      <td>-0.000076</td>\n",
       "      <td>-0.000084</td>\n",
       "      <td>-0.000157</td>\n",
       "      <td>-0.000140</td>\n",
       "      <td>-0.000127</td>\n",
       "      <td>-0.000091</td>\n",
       "      <td>0.000124</td>\n",
       "      <td>0.0</td>\n",
       "    </tr>\n",
       "    <tr>\n",
       "      <th>cash</th>\n",
       "      <td>0.000000</td>\n",
       "      <td>0.000000</td>\n",
       "      <td>0.000000</td>\n",
       "      <td>0.000000</td>\n",
       "      <td>0.000000</td>\n",
       "      <td>0.000000</td>\n",
       "      <td>0.000000</td>\n",
       "      <td>0.000000</td>\n",
       "      <td>0.000000</td>\n",
       "      <td>0.0</td>\n",
       "    </tr>\n",
       "  </tbody>\n",
       "</table>\n",
       "</div>"
      ],
      "text/plain": [
       "                     Samsung Electronics  SK Hynix     KAKAO     NAVER  \\\n",
       "Samsung Electronics             0.000295  0.000210  0.000060  0.000082   \n",
       "SK Hynix                        0.000210  0.000579  0.000100  0.000088   \n",
       "KAKAO                           0.000060  0.000100  0.000543  0.000167   \n",
       "NAVER                           0.000082  0.000088  0.000167  0.000502   \n",
       "LG Chemistry                    0.000133  0.000170  0.000103  0.000081   \n",
       "Samsung SDI                     0.000151  0.000196  0.000117  0.000096   \n",
       "HyunDai                         0.000113  0.000131  0.000065  0.000069   \n",
       "Celltrion                       0.000069  0.000111  0.000114  0.000090   \n",
       "KODEX Inverse                  -0.000140 -0.000153 -0.000076 -0.000084   \n",
       "cash                            0.000000  0.000000  0.000000  0.000000   \n",
       "\n",
       "                     LG Chemistry  Samsung SDI   HyunDai  Celltrion  \\\n",
       "Samsung Electronics      0.000133     0.000151  0.000113   0.000069   \n",
       "SK Hynix                 0.000170     0.000196  0.000131   0.000111   \n",
       "KAKAO                    0.000103     0.000117  0.000065   0.000114   \n",
       "NAVER                    0.000081     0.000096  0.000069   0.000090   \n",
       "LG Chemistry             0.000577     0.000290  0.000167   0.000116   \n",
       "Samsung SDI              0.000290     0.000592  0.000126   0.000116   \n",
       "HyunDai                  0.000167     0.000126  0.000454   0.000082   \n",
       "Celltrion                0.000116     0.000116  0.000082   0.000920   \n",
       "KODEX Inverse           -0.000157    -0.000140 -0.000127  -0.000091   \n",
       "cash                     0.000000     0.000000  0.000000   0.000000   \n",
       "\n",
       "                     KODEX Inverse  cash  \n",
       "Samsung Electronics      -0.000140   0.0  \n",
       "SK Hynix                 -0.000153   0.0  \n",
       "KAKAO                    -0.000076   0.0  \n",
       "NAVER                    -0.000084   0.0  \n",
       "LG Chemistry             -0.000157   0.0  \n",
       "Samsung SDI              -0.000140   0.0  \n",
       "HyunDai                  -0.000127   0.0  \n",
       "Celltrion                -0.000091   0.0  \n",
       "KODEX Inverse             0.000124   0.0  \n",
       "cash                      0.000000   0.0  "
      ]
     },
     "execution_count": 5,
     "metadata": {},
     "output_type": "execute_result"
    }
   ],
   "source": [
    "cov_matrix = close_price_df.pct_change().cov()\n",
    "cov_matrix"
   ]
  },
  {
   "cell_type": "markdown",
   "metadata": {},
   "source": [
    "### Portfolio 1 Volatility"
   ]
  },
  {
   "cell_type": "code",
   "execution_count": 6,
   "metadata": {
    "tags": []
   },
   "outputs": [
    {
     "data": {
      "text/plain": [
       "(array([0.1, 0.1, 0.1, 0.1, 0.1, 0.1, 0.1, 0.1, 0. , 0.2]), 1.0)"
      ]
     },
     "execution_count": 6,
     "metadata": {},
     "output_type": "execute_result"
    }
   ],
   "source": [
    "portfolio_1_weights = np.array([0.1, 0.1, 0.1, 0.1, 0.1, 0.1, 0.1, 0.1, 0, 0.2])\n",
    "portfolio_1_weights, portfolio_1_weights.sum()"
   ]
  },
  {
   "cell_type": "code",
   "execution_count": 7,
   "metadata": {},
   "outputs": [
    {
     "data": {
      "text/plain": [
       "0.00011289727684812392"
      ]
     },
     "execution_count": 7,
     "metadata": {},
     "output_type": "execute_result"
    }
   ],
   "source": [
    "portfolio_1_variance = portfolio_1_weights.dot(cov_matrix).dot(portfolio_1_weights)\n",
    "portfolio_1_variance"
   ]
  },
  {
   "cell_type": "code",
   "execution_count": 8,
   "metadata": {},
   "outputs": [
    {
     "data": {
      "text/plain": [
       "0.010625313023536009"
      ]
     },
     "execution_count": 8,
     "metadata": {},
     "output_type": "execute_result"
    }
   ],
   "source": [
    "portfolio_1_std = np.sqrt(portfolio_1_variance)\n",
    "portfolio_1_std"
   ]
  },
  {
   "cell_type": "markdown",
   "metadata": {},
   "source": [
    "### Portfolio 2 Volatility"
   ]
  },
  {
   "cell_type": "code",
   "execution_count": 9,
   "metadata": {
    "tags": []
   },
   "outputs": [
    {
     "data": {
      "text/plain": [
       "(array([0.1, 0.1, 0.3, 0.1, 0.1, 0.1, 0.1, 0.1, 0. , 0. ]), 1.0)"
      ]
     },
     "execution_count": 9,
     "metadata": {},
     "output_type": "execute_result"
    }
   ],
   "source": [
    "portfolio_2_weights = np.array([0.1, 0.1, 0.3, 0.1, 0.1, 0.1, 0.1, 0.1, 0, 0])\n",
    "portfolio_2_weights, portfolio_2_weights.sum()"
   ]
  },
  {
   "cell_type": "code",
   "execution_count": 10,
   "metadata": {},
   "outputs": [
    {
     "data": {
      "text/plain": [
       "0.0001853926213836097"
      ]
     },
     "execution_count": 10,
     "metadata": {},
     "output_type": "execute_result"
    }
   ],
   "source": [
    "portfolio_2_variance = portfolio_2_weights.dot(cov_matrix).dot(portfolio_2_weights)\n",
    "portfolio_2_variance"
   ]
  },
  {
   "cell_type": "code",
   "execution_count": 11,
   "metadata": {
    "tags": []
   },
   "outputs": [
    {
     "data": {
      "text/plain": [
       "0.013615895908224684"
      ]
     },
     "execution_count": 11,
     "metadata": {},
     "output_type": "execute_result"
    }
   ],
   "source": [
    "portfolio_2_std = np.sqrt(portfolio_2_variance)\n",
    "portfolio_2_std"
   ]
  },
  {
   "cell_type": "markdown",
   "metadata": {},
   "source": [
    "### Portfolio Volatility Compare"
   ]
  },
  {
   "cell_type": "code",
   "execution_count": 12,
   "metadata": {},
   "outputs": [
    {
     "name": "stdout",
     "output_type": "stream",
     "text": [
      "portfolio 1 Volatility :  0.0106\n",
      "portfolio 2 Volatility :  0.0136\n",
      "portfolio Volatility delta :  0.002991\n"
     ]
    }
   ],
   "source": [
    "print('portfolio 1 Volatility : ', round(portfolio_1_std, 4))\n",
    "print('portfolio 2 Volatility : ', round(portfolio_2_std, 4))\n",
    "print('portfolio Volatility delta : ', round(portfolio_2_std - portfolio_1_std, 6))"
   ]
  },
  {
   "cell_type": "markdown",
   "metadata": {},
   "source": [
    "### Trying to Get Portfolio Volatility Delta using Portfolio Weights Delta "
   ]
  },
  {
   "cell_type": "code",
   "execution_count": 13,
   "metadata": {},
   "outputs": [
    {
     "data": {
      "text/plain": [
       "array([ 0. ,  0. ,  0.2,  0. ,  0. ,  0. ,  0. ,  0. ,  0. , -0.2])"
      ]
     },
     "execution_count": 13,
     "metadata": {},
     "output_type": "execute_result"
    }
   ],
   "source": [
    "portfolio_weights_delata = portfolio_2_weights - portfolio_1_weights\n",
    "portfolio_weights_delata"
   ]
  },
  {
   "cell_type": "code",
   "execution_count": 14,
   "metadata": {},
   "outputs": [],
   "source": [
    "portfolio_variance_delta = portfolio_weights_delata.dot(cov_matrix).dot(portfolio_weights_delata)"
   ]
  },
  {
   "cell_type": "code",
   "execution_count": 15,
   "metadata": {},
   "outputs": [
    {
     "data": {
      "text/plain": [
       "0.0046617005562492346"
      ]
     },
     "execution_count": 15,
     "metadata": {},
     "output_type": "execute_result"
    }
   ],
   "source": [
    "np.sqrt(portfolio_variance_delta)"
   ]
  },
  {
   "cell_type": "markdown",
   "metadata": {},
   "source": [
    "-> It's not an appropriate methodology. In my opinion, it seems impossible to obtain with just the delta of portfolio weights."
   ]
  }
 ],
 "metadata": {
  "kernelspec": {
   "display_name": "Python 3",
   "language": "python",
   "name": "python3"
  },
  "language_info": {
   "codemirror_mode": {
    "name": "ipython",
    "version": 3
   },
   "file_extension": ".py",
   "mimetype": "text/x-python",
   "name": "python",
   "nbconvert_exporter": "python",
   "pygments_lexer": "ipython3",
   "version": "3.7.4"
  }
 },
 "nbformat": 4,
 "nbformat_minor": 5
}
